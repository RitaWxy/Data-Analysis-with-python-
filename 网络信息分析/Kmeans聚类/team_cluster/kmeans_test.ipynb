{
 "cells": [
  {
   "cell_type": "code",
   "execution_count": 18,
   "metadata": {},
   "outputs": [],
   "source": [
    "import pandas as pd\n",
    "import numpy as np\n",
    "\n",
    "from sklearn import preprocessing\n",
    "from sklearn.cluster import KMeans"
   ]
  },
  {
   "cell_type": "code",
   "execution_count": 19,
   "metadata": {
    "scrolled": true
   },
   "outputs": [
    {
     "name": "stdout",
     "output_type": "stream",
     "text": [
      "        国家  2019国际排名  2018世界杯排名  2015亚洲杯排名\n",
      "0       中国        73         40          7\n",
      "1       日本        60         15          5\n",
      "2       韩国        61         19          2\n",
      "3       伊朗        34         18          6\n",
      "4       沙特        67         26         10\n",
      "5      伊拉克        91         40          4\n",
      "6      卡塔尔       101         40         13\n",
      "7      阿联酋        81         40          6\n",
      "8   乌兹别克斯坦        88         40          8\n",
      "9       泰国       122         40         17\n",
      "10      越南       102         50         17\n",
      "11      阿曼        87         50         12\n",
      "12      朝鲜       110         50         14\n",
      "13      印尼       164         50         17\n",
      "14      澳洲        40         30          1\n",
      "15     叙利亚        76         40         17\n",
      "16      约旦       118         50          9\n",
      "17     科威特       160         50         15 <class 'pandas.core.frame.DataFrame'>\n",
      "[[ 73  40   7]\n",
      " [ 60  15   5]\n",
      " [ 61  19   2]\n",
      " [ 34  18   6]\n",
      " [ 67  26  10]\n",
      " [ 91  40   4]\n",
      " [101  40  13]\n",
      " [ 81  40   6]\n",
      " [ 88  40   8]\n",
      " [122  40  17]\n",
      " [102  50  17]\n",
      " [ 87  50  12]\n",
      " [110  50  14]\n",
      " [164  50  17]\n",
      " [ 40  30   1]\n",
      " [ 76  40  17]\n",
      " [118  50   9]\n",
      " [160  50  15]] <class 'numpy.ndarray'>\n"
     ]
    }
   ],
   "source": [
    "data = pd.read_csv('./team_cluster_data.csv',encoding = 'gbk')\n",
    "print(data,type(data))\n",
    "x_train = data.iloc[:,1:].values\n",
    "print(x_train,type(x_train))"
   ]
  },
  {
   "cell_type": "code",
   "execution_count": 20,
   "metadata": {
    "scrolled": true
   },
   "outputs": [
    {
     "name": "stdout",
     "output_type": "stream",
     "text": [
      "[[0.3        0.71428571 0.375     ]\n",
      " [0.2        0.         0.25      ]\n",
      " [0.20769231 0.11428571 0.0625    ]\n",
      " [0.         0.08571429 0.3125    ]\n",
      " [0.25384615 0.31428571 0.5625    ]\n",
      " [0.43846154 0.71428571 0.1875    ]\n",
      " [0.51538462 0.71428571 0.75      ]\n",
      " [0.36153846 0.71428571 0.3125    ]\n",
      " [0.41538462 0.71428571 0.4375    ]\n",
      " [0.67692308 0.71428571 1.        ]\n",
      " [0.52307692 1.         1.        ]\n",
      " [0.40769231 1.         0.6875    ]\n",
      " [0.58461538 1.         0.8125    ]\n",
      " [1.         1.         1.        ]\n",
      " [0.04615385 0.42857143 0.        ]\n",
      " [0.32307692 0.71428571 1.        ]\n",
      " [0.64615385 1.         0.5       ]\n",
      " [0.96923077 1.         0.875     ]]\n"
     ]
    }
   ],
   "source": [
    "# featuure scalling\n",
    "min_max_scaler=preprocessing.MinMaxScaler()\n",
    "x_train = min_max_scaler.fit_transform(x_train)\n",
    "print(x_train)"
   ]
  },
  {
   "cell_type": "code",
   "execution_count": 23,
   "metadata": {},
   "outputs": [],
   "source": [
    "# KMeans\n",
    "kmeans = KMeans(n_clusters = 3)\n",
    "kmeans.fit(x_train)\n",
    "y_cluster = kmeans.predict(x_train)"
   ]
  },
  {
   "cell_type": "code",
   "execution_count": 24,
   "metadata": {},
   "outputs": [
    {
     "data": {
      "text/plain": [
       "array([2, 1, 1, 1, 1, 2, 0, 2, 2, 0, 0, 0, 0, 0, 1, 0, 2, 0], dtype=int32)"
      ]
     },
     "execution_count": 24,
     "metadata": {},
     "output_type": "execute_result"
    }
   ],
   "source": [
    "y_cluster"
   ]
  },
  {
   "cell_type": "code",
   "execution_count": 27,
   "metadata": {},
   "outputs": [],
   "source": [
    "res = pd.concat((data,pd.DataFrame(y_cluster)), axis = 1)"
   ]
  },
  {
   "cell_type": "code",
   "execution_count": 30,
   "metadata": {
    "scrolled": true
   },
   "outputs": [
    {
     "data": {
      "text/html": [
       "<div>\n",
       "<style scoped>\n",
       "    .dataframe tbody tr th:only-of-type {\n",
       "        vertical-align: middle;\n",
       "    }\n",
       "\n",
       "    .dataframe tbody tr th {\n",
       "        vertical-align: top;\n",
       "    }\n",
       "\n",
       "    .dataframe thead th {\n",
       "        text-align: right;\n",
       "    }\n",
       "</style>\n",
       "<table border=\"1\" class=\"dataframe\">\n",
       "  <thead>\n",
       "    <tr style=\"text-align: right;\">\n",
       "      <th></th>\n",
       "      <th>国家</th>\n",
       "      <th>2019国际排名</th>\n",
       "      <th>2018世界杯排名</th>\n",
       "      <th>2015亚洲杯排名</th>\n",
       "      <th>聚类结构</th>\n",
       "    </tr>\n",
       "  </thead>\n",
       "  <tbody>\n",
       "    <tr>\n",
       "      <td>0</td>\n",
       "      <td>中国</td>\n",
       "      <td>73</td>\n",
       "      <td>40</td>\n",
       "      <td>7</td>\n",
       "      <td>2</td>\n",
       "    </tr>\n",
       "    <tr>\n",
       "      <td>1</td>\n",
       "      <td>日本</td>\n",
       "      <td>60</td>\n",
       "      <td>15</td>\n",
       "      <td>5</td>\n",
       "      <td>1</td>\n",
       "    </tr>\n",
       "    <tr>\n",
       "      <td>2</td>\n",
       "      <td>韩国</td>\n",
       "      <td>61</td>\n",
       "      <td>19</td>\n",
       "      <td>2</td>\n",
       "      <td>1</td>\n",
       "    </tr>\n",
       "    <tr>\n",
       "      <td>3</td>\n",
       "      <td>伊朗</td>\n",
       "      <td>34</td>\n",
       "      <td>18</td>\n",
       "      <td>6</td>\n",
       "      <td>1</td>\n",
       "    </tr>\n",
       "    <tr>\n",
       "      <td>4</td>\n",
       "      <td>沙特</td>\n",
       "      <td>67</td>\n",
       "      <td>26</td>\n",
       "      <td>10</td>\n",
       "      <td>1</td>\n",
       "    </tr>\n",
       "    <tr>\n",
       "      <td>5</td>\n",
       "      <td>伊拉克</td>\n",
       "      <td>91</td>\n",
       "      <td>40</td>\n",
       "      <td>4</td>\n",
       "      <td>2</td>\n",
       "    </tr>\n",
       "    <tr>\n",
       "      <td>6</td>\n",
       "      <td>卡塔尔</td>\n",
       "      <td>101</td>\n",
       "      <td>40</td>\n",
       "      <td>13</td>\n",
       "      <td>0</td>\n",
       "    </tr>\n",
       "    <tr>\n",
       "      <td>7</td>\n",
       "      <td>阿联酋</td>\n",
       "      <td>81</td>\n",
       "      <td>40</td>\n",
       "      <td>6</td>\n",
       "      <td>2</td>\n",
       "    </tr>\n",
       "    <tr>\n",
       "      <td>8</td>\n",
       "      <td>乌兹别克斯坦</td>\n",
       "      <td>88</td>\n",
       "      <td>40</td>\n",
       "      <td>8</td>\n",
       "      <td>2</td>\n",
       "    </tr>\n",
       "    <tr>\n",
       "      <td>9</td>\n",
       "      <td>泰国</td>\n",
       "      <td>122</td>\n",
       "      <td>40</td>\n",
       "      <td>17</td>\n",
       "      <td>0</td>\n",
       "    </tr>\n",
       "    <tr>\n",
       "      <td>10</td>\n",
       "      <td>越南</td>\n",
       "      <td>102</td>\n",
       "      <td>50</td>\n",
       "      <td>17</td>\n",
       "      <td>0</td>\n",
       "    </tr>\n",
       "    <tr>\n",
       "      <td>11</td>\n",
       "      <td>阿曼</td>\n",
       "      <td>87</td>\n",
       "      <td>50</td>\n",
       "      <td>12</td>\n",
       "      <td>0</td>\n",
       "    </tr>\n",
       "    <tr>\n",
       "      <td>12</td>\n",
       "      <td>朝鲜</td>\n",
       "      <td>110</td>\n",
       "      <td>50</td>\n",
       "      <td>14</td>\n",
       "      <td>0</td>\n",
       "    </tr>\n",
       "    <tr>\n",
       "      <td>13</td>\n",
       "      <td>印尼</td>\n",
       "      <td>164</td>\n",
       "      <td>50</td>\n",
       "      <td>17</td>\n",
       "      <td>0</td>\n",
       "    </tr>\n",
       "    <tr>\n",
       "      <td>14</td>\n",
       "      <td>澳洲</td>\n",
       "      <td>40</td>\n",
       "      <td>30</td>\n",
       "      <td>1</td>\n",
       "      <td>1</td>\n",
       "    </tr>\n",
       "    <tr>\n",
       "      <td>15</td>\n",
       "      <td>叙利亚</td>\n",
       "      <td>76</td>\n",
       "      <td>40</td>\n",
       "      <td>17</td>\n",
       "      <td>0</td>\n",
       "    </tr>\n",
       "    <tr>\n",
       "      <td>16</td>\n",
       "      <td>约旦</td>\n",
       "      <td>118</td>\n",
       "      <td>50</td>\n",
       "      <td>9</td>\n",
       "      <td>2</td>\n",
       "    </tr>\n",
       "    <tr>\n",
       "      <td>17</td>\n",
       "      <td>科威特</td>\n",
       "      <td>160</td>\n",
       "      <td>50</td>\n",
       "      <td>15</td>\n",
       "      <td>0</td>\n",
       "    </tr>\n",
       "  </tbody>\n",
       "</table>\n",
       "</div>"
      ],
      "text/plain": [
       "        国家  2019国际排名  2018世界杯排名  2015亚洲杯排名  聚类结构\n",
       "0       中国        73         40          7     2\n",
       "1       日本        60         15          5     1\n",
       "2       韩国        61         19          2     1\n",
       "3       伊朗        34         18          6     1\n",
       "4       沙特        67         26         10     1\n",
       "5      伊拉克        91         40          4     2\n",
       "6      卡塔尔       101         40         13     0\n",
       "7      阿联酋        81         40          6     2\n",
       "8   乌兹别克斯坦        88         40          8     2\n",
       "9       泰国       122         40         17     0\n",
       "10      越南       102         50         17     0\n",
       "11      阿曼        87         50         12     0\n",
       "12      朝鲜       110         50         14     0\n",
       "13      印尼       164         50         17     0\n",
       "14      澳洲        40         30          1     1\n",
       "15     叙利亚        76         40         17     0\n",
       "16      约旦       118         50          9     2\n",
       "17     科威特       160         50         15     0"
      ]
     },
     "execution_count": 30,
     "metadata": {},
     "output_type": "execute_result"
    }
   ],
   "source": [
    "res.rename({0:'聚类结构'},axis = 1,inplace=True)\n",
    "res"
   ]
  },
  {
   "cell_type": "code",
   "execution_count": null,
   "metadata": {},
   "outputs": [],
   "source": []
  }
 ],
 "metadata": {
  "kernelspec": {
   "display_name": "Python 3",
   "language": "python",
   "name": "python3"
  },
  "language_info": {
   "codemirror_mode": {
    "name": "ipython",
    "version": 3
   },
   "file_extension": ".py",
   "mimetype": "text/x-python",
   "name": "python",
   "nbconvert_exporter": "python",
   "pygments_lexer": "ipython3",
   "version": "3.7.4"
  }
 },
 "nbformat": 4,
 "nbformat_minor": 4
}
