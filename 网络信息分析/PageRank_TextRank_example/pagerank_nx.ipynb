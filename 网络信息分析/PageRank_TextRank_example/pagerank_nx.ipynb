{
 "cells": [
  {
   "cell_type": "code",
   "execution_count": 25,
   "metadata": {},
   "outputs": [],
   "source": [
    "import networkx as nx\n",
    "import matplotlib.pyplot as plt\n",
    "import matplotlib"
   ]
  },
  {
   "cell_type": "code",
   "execution_count": 26,
   "metadata": {},
   "outputs": [],
   "source": [
    "relation_graph = nx.DiGraph()\n",
    "edges = [('A','B'),('A','D'),('A','F'),('A','E'),\n",
    "        ('B','C'),('C','E'),('D','A'),('D','C'),('D','E'),\n",
    "       ('E','C'),('E','B'),('F','D')]\n",
    "relation_graph.add_edges_from(edges)"
   ]
  },
  {
   "cell_type": "code",
   "execution_count": 27,
   "metadata": {},
   "outputs": [
    {
     "name": "stderr",
     "output_type": "stream",
     "text": [
      "/opt/anaconda3/lib/python3.7/site-packages/networkx/drawing/nx_pylab.py:579: MatplotlibDeprecationWarning: \n",
      "The iterable function was deprecated in Matplotlib 3.1 and will be removed in 3.3. Use np.iterable instead.\n",
      "  if not cb.iterable(width):\n",
      "/opt/anaconda3/lib/python3.7/site-packages/networkx/drawing/nx_pylab.py:676: MatplotlibDeprecationWarning: \n",
      "The iterable function was deprecated in Matplotlib 3.1 and will be removed in 3.3. Use np.iterable instead.\n",
      "  if cb.iterable(node_size):  # many node sizes\n"
     ]
    },
    {
     "data": {
      "image/png": "[encoded data removed]",
      "text/plain": [
       "<Figure size 432x288 with 1 Axes>"
      ]
     },
     "metadata": {},
     "output_type": "display_data"
    }
   ],
   "source": [
    "matplotlib.rcParams['font.sans-serif'] = ['SimHei'] \n",
    "nx.draw(relation_graph,with_labels = True)\n",
    "plt.show()"
   ]
  },
  {
   "cell_type": "code",
   "execution_count": 75,
   "metadata": {},
   "outputs": [],
   "source": [
    "# pagerank\n",
    "# 简化模型\n",
    "simple_pr = nx.pagerank(relation_graph,max_iter = 200,alpha = 1)\n",
    "\n",
    "# 随机模型\n",
    "random_pr = nx.pagerank(relation_graph,alpha = 0.85)"
   ]
  },
  {
   "cell_type": "code",
   "execution_count": 76,
   "metadata": {},
   "outputs": [
    {
     "name": "stdout",
     "output_type": "stream",
     "text": [
      "{'A': 4.362295028000273e-11, 'B': 0.20000025428691245, 'D': 6.554246553540412e-11, 'F': 2.182304589249693e-11, 'E': 0.40000101720462666, 'C': 0.39999872837747247}\n",
      "{'A': 0.04288042051996868, 'B': 0.17901275990207988, 'D': 0.0631073657542518, 'F': 0.034112089475917554, 'E': 0.3409441105134389, 'C': 0.3399432538343432}\n"
     ]
    }
   ],
   "source": [
    "print(simple_pr,random_pr,sep='\\n')"
   ]
  },
  {
   "cell_type": "markdown",
   "metadata": {},
   "source": [
    "# 方法2"
   ]
  },
  {
   "cell_type": "code",
   "execution_count": 77,
   "metadata": {},
   "outputs": [
    {
     "data": {
      "text/plain": [
       "array([[0.16666667],\n",
       "       [0.16666667],\n",
       "       [0.16666667],\n",
       "       [0.16666667],\n",
       "       [0.16666667],\n",
       "       [0.16666667]])"
      ]
     },
     "execution_count": 77,
     "metadata": {},
     "output_type": "execute_result"
    }
   ],
   "source": [
    "# 转移矩阵\n",
    "import numpy as np\n",
    "ele =np.array([[0,0,0,1/2,0,0],\n",
    "            [1/4,0,0,0,1/2,0],\n",
    "            [0,1,0,1/2,1/2,0],\n",
    "            [1/4,0,0,0,0,1],\n",
    "            [1/4,0,1,1/2,0,0],\n",
    "            [1/4,0,0,0,0,0]]) \n",
    "rank = np.array([1/6,1/6,1/6,1/6,1/6,1/6]).reshape(6,1)\n",
    "rank"
   ]
  },
  {
   "cell_type": "code",
   "execution_count": 84,
   "metadata": {},
   "outputs": [],
   "source": [
    "def simple_work(ele,w):\n",
    "    for i in range(100):\n",
    "        w = np.dot(ele,w)\n",
    "        if i%10 == 0:\n",
    "            print(w)\n",
    "\n",
    "def random_work(ele,w,d=0.85):\n",
    "    n = len(b)\n",
    "    for i in range(100):\n",
    "        w = (1-d)/n+d*np.dot(ele,w)\n",
    "        if i%10 == 0:\n",
    "            print(w)"
   ]
  },
  {
   "cell_type": "code",
   "execution_count": 85,
   "metadata": {
    "scrolled": true
   },
   "outputs": [
    {
     "name": "stdout",
     "output_type": "stream",
     "text": [
      "[[0.08333333]\n",
      " [0.125     ]\n",
      " [0.33333333]\n",
      " [0.20833333]\n",
      " [0.29166667]\n",
      " [0.04166667]]\n",
      "[[5.56945801e-04]\n",
      " [2.57376353e-01]\n",
      " [5.08639018e-01]\n",
      " [6.21795654e-04]\n",
      " [5.09565989e-01]\n",
      " [2.50498454e-04]]\n",
      "[[2.50812930e-06]\n",
      " [2.55504642e-01]\n",
      " [5.11036343e-01]\n",
      " [2.92144250e-06]\n",
      " [5.11226803e-01]\n",
      " [1.06578227e-06]]\n",
      "[[1.12825257e-08]\n",
      " [2.55553342e-01]\n",
      " [5.11112618e-01]\n",
      " [1.31551315e-08]\n",
      " [5.11111773e-01]\n",
      " [4.84649476e-09]]\n",
      "[[5.09319931e-11]\n",
      " [2.55555603e-01]\n",
      " [5.11111180e-01]\n",
      " [5.93497267e-11]\n",
      " [5.11110994e-01]\n",
      " [2.18498163e-11]]\n",
      "[[2.29780157e-13]\n",
      " [2.55555558e-01]\n",
      " [5.11111110e-01]\n",
      " [2.67782179e-13]\n",
      " [5.11111110e-01]\n",
      " [9.85872373e-14]]\n",
      "[[1.03672778e-15]\n",
      " [2.55555556e-01]\n",
      " [5.11111111e-01]\n",
      " [1.20817362e-15]\n",
      " [5.11111111e-01]\n",
      " [4.44805052e-16]]\n",
      "[[4.67750550e-18]\n",
      " [2.55555556e-01]\n",
      " [5.11111111e-01]\n",
      " [5.45103907e-18]\n",
      " [5.11111111e-01]\n",
      " [2.00687038e-18]]\n",
      "[[2.11039637e-20]\n",
      " [2.55555556e-01]\n",
      " [5.11111111e-01]\n",
      " [2.45939904e-20]\n",
      " [5.11111111e-01]\n",
      " [9.05459588e-21]]\n",
      "[[9.52168381e-23]\n",
      " [2.55555556e-01]\n",
      " [5.11111111e-01]\n",
      " [1.10963136e-22]\n",
      " [5.11111111e-01]\n",
      " [4.08525144e-23]]\n"
     ]
    }
   ],
   "source": [
    "simple_work(ele,rank)"
   ]
  },
  {
   "cell_type": "code",
   "execution_count": null,
   "metadata": {},
   "outputs": [],
   "source": []
  }
 ],
 "metadata": {
  "kernelspec": {
   "display_name": "Python 3",
   "language": "python",
   "name": "python3"
  },
  "language_info": {
   "codemirror_mode": {
    "name": "ipython",
    "version": 3
   },
   "file_extension": ".py",
   "mimetype": "text/x-python",
   "name": "python",
   "nbconvert_exporter": "python",
   "pygments_lexer": "ipython3",
   "version": "3.7.4"
  }
 },
 "nbformat": 4,
 "nbformat_minor": 4
}
